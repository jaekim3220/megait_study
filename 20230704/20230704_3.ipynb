{
 "cells": [
  {
   "attachments": {},
   "cell_type": "markdown",
   "metadata": {},
   "source": [
    "P323 : 문자열 압축\\\n",
    "1개 이상의 단위로 자르고, 각 단위로 압축하여\\\n",
    "표현한 문자열 중 가장 짧은 길이를 구하는 문제"
   ]
  },
  {
   "attachments": {},
   "cell_type": "markdown",
   "metadata": {},
   "source": [
    "문자열을 1~n 단위로 분리 후 결과 값 비교 후 가장 낮은 값 추출"
   ]
  },
  {
   "cell_type": "code",
   "execution_count": 4,
   "metadata": {},
   "outputs": [],
   "source": [
    "# 분리한 결과(길이)를 담을 list 초기화\n",
    "answer = []"
   ]
  },
  {
   "cell_type": "code",
   "execution_count": 5,
   "metadata": {},
   "outputs": [
    {
     "name": "stdout",
     "output_type": "stream",
     "text": [
      "aabbaccc\n"
     ]
    }
   ],
   "source": [
    "s = str(input(\"문자 입력 : \"))\n",
    "print(s)"
   ]
  },
  {
   "cell_type": "code",
   "execution_count": 9,
   "metadata": {},
   "outputs": [
    {
     "name": "stdout",
     "output_type": "stream",
     "text": [
      "cut : a\n",
      "cut : aa\n",
      "cut : aab\n",
      "cut : aabb\n",
      "cut : aabba\n",
      "cut : aabbac\n",
      "cut : aabbacc\n",
      "cut : aabbaccc\n"
     ]
    }
   ],
   "source": [
    "# 한 글자씩 분리하면서 비교\n",
    "# for i in range(1, len(s)+1):대신\n",
    "# for i in range(len(s)):를 사용 시 에러 발생\n",
    "# for i in range(len(s)): 를 사용하면 i는 0부터 s의 길이보다 1 작은 값까지 증가해서 에러가 발생\n",
    "for i in range(1, len(s)+1): # i단위씩 문자열 분리\n",
    "    string = ''\n",
    "    count = 1 # 개수 확인\n",
    "    cut = s[:i] # 잘린 문자열 확인\n",
    "    print(\"cut : %s\"%cut)\n",
    "\n",
    "    for j in range(i, len(s)+i, i): # i부터 끝까지 i단위로 나누어 탐색\n",
    "        if cut == s[j:i+j]: # 잘린 문자와 새로운 문자가 같다면\n",
    "            count += 1\n",
    "        else: # 잘린 문자와 새로운 문자가 다르면\n",
    "            if count == 1: # 중복된 값이 있었다면\n",
    "                string += cut\n",
    "            else: # 중복 값이 없다면\n",
    "                string += str(count) + cut\n",
    "                # 모든 과정이 끝났으면 문자열, 개수를 갱싱/초기화\n",
    "            cut = s[j:j + i] # 이전에 잘린 문자열 갱신\n",
    "            count = 1 # 개수 를 초기화\n",
    "\n",
    "    answer.append(len(string))"
   ]
  },
  {
   "cell_type": "code",
   "execution_count": 10,
   "metadata": {},
   "outputs": [
    {
     "name": "stdout",
     "output_type": "stream",
     "text": [
      "7\n"
     ]
    }
   ],
   "source": [
    "print(min(answer))"
   ]
  },
  {
   "cell_type": "code",
   "execution_count": null,
   "metadata": {},
   "outputs": [],
   "source": []
  }
 ],
 "metadata": {
  "kernelspec": {
   "display_name": "Python 3",
   "language": "python",
   "name": "python3"
  },
  "language_info": {
   "codemirror_mode": {
    "name": "ipython",
    "version": 3
   },
   "file_extension": ".py",
   "mimetype": "text/x-python",
   "name": "python",
   "nbconvert_exporter": "python",
   "pygments_lexer": "ipython3",
   "version": "3.11.0"
  },
  "orig_nbformat": 4
 },
 "nbformat": 4,
 "nbformat_minor": 2
}
