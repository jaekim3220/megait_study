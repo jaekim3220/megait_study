{
 "cells": [
  {
   "attachments": {},
   "cell_type": "markdown",
   "metadata": {},
   "source": [
    "p322 : 문자열 재정렬"
   ]
  },
  {
   "attachments": {},
   "cell_type": "markdown",
   "metadata": {},
   "source": [
    "주어진 문자열을 알파벳과 숫자로 분리\\\n",
    "알파벳 부분을 정렬하여 문자열로 변화\\\n",
    "숫자 부분을 모두 더한 값을 계산\\\n",
    "정렬된 알파벳 문자열과 숫자의 합을 이어서 출력"
   ]
  },
  {
   "cell_type": "code",
   "execution_count": 32,
   "metadata": {},
   "outputs": [
    {
     "data": {
      "text/plain": [
       "'AJKDLSI412K4JSJ9D'"
      ]
     },
     "execution_count": 32,
     "metadata": {},
     "output_type": "execute_result"
    }
   ],
   "source": [
    "input_string = str(input(\"문자 입력 : \"))\n",
    "input_string"
   ]
  },
  {
   "cell_type": "code",
   "execution_count": 33,
   "metadata": {},
   "outputs": [],
   "source": [
    "word = []   # 문자를 담음 변수 초기화\n",
    "number_sum = 0  # 숫자의 합을 담음 변수 초기화"
   ]
  },
  {
   "cell_type": "code",
   "execution_count": 34,
   "metadata": {},
   "outputs": [],
   "source": [
    "for char in input_string:   # 주어진 문자열 내에서 작동\n",
    "    if char.isalpha():  # char가 문자인 경우\n",
    "        word.append(char)   # 문자 변수에 삽입\n",
    "        # print(word)\n",
    "    else:   # char가 숫자인 경우\n",
    "        number_sum += int(char) # char는 str형식이므로 int 형태로 변경 후 연산\n",
    "        # print(number_sum)"
   ]
  },
  {
   "cell_type": "code",
   "execution_count": 35,
   "metadata": {},
   "outputs": [],
   "source": [
    "sorted_word = ''.join(sorted(word)) # word 변수에 담은 문자열을 오름차순 정렬\n",
    "# print(sorted_word)"
   ]
  },
  {
   "cell_type": "code",
   "execution_count": 36,
   "metadata": {},
   "outputs": [
    {
     "name": "stdout",
     "output_type": "stream",
     "text": [
      "ADDIJJJKKLSS20\n"
     ]
    }
   ],
   "source": [
    "answer = sorted_word + str(number_sum)  # int형태인 number_sum을 str 형태로 변환 후 사용해야 문자로 인식, 추출 가능\n",
    "print(answer)"
   ]
  },
  {
   "cell_type": "code",
   "execution_count": null,
   "metadata": {},
   "outputs": [],
   "source": []
  }
 ],
 "metadata": {
  "kernelspec": {
   "display_name": "Python 3",
   "language": "python",
   "name": "python3"
  },
  "language_info": {
   "codemirror_mode": {
    "name": "ipython",
    "version": 3
   },
   "file_extension": ".py",
   "mimetype": "text/x-python",
   "name": "python",
   "nbconvert_exporter": "python",
   "pygments_lexer": "ipython3",
   "version": "3.11.0"
  },
  "orig_nbformat": 4
 },
 "nbformat": 4,
 "nbformat_minor": 2
}
